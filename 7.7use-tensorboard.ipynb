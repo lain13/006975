{
 "cells": [
  {
   "cell_type": "code",
   "execution_count": 3,
   "id": "fatal-miniature",
   "metadata": {},
   "outputs": [],
   "source": [
    "import tensorflow.keras as keras\n",
    "from tensorflow.keras import layers\n",
    "from tensorflow.keras.datasets import imdb\n",
    "from tensorflow.keras.preprocessing import sequence"
   ]
  },
  {
   "cell_type": "code",
   "execution_count": 2,
   "id": "helpful-agreement",
   "metadata": {},
   "outputs": [],
   "source": [
    "max_features = 2000\n",
    "max_len = 500"
   ]
  },
  {
   "cell_type": "code",
   "execution_count": 4,
   "id": "civic-favorite",
   "metadata": {},
   "outputs": [
    {
     "name": "stderr",
     "output_type": "stream",
     "text": [
      "<string>:6: VisibleDeprecationWarning: Creating an ndarray from ragged nested sequences (which is a list-or-tuple of lists-or-tuples-or ndarrays with different lengths or shapes) is deprecated. If you meant to do this, you must specify 'dtype=object' when creating the ndarray\n",
      "/Library/Frameworks/Python.framework/Versions/3.7/lib/python3.7/site-packages/tensorflow/python/keras/datasets/imdb.py:159: VisibleDeprecationWarning: Creating an ndarray from ragged nested sequences (which is a list-or-tuple of lists-or-tuples-or ndarrays with different lengths or shapes) is deprecated. If you meant to do this, you must specify 'dtype=object' when creating the ndarray\n",
      "  x_train, y_train = np.array(xs[:idx]), np.array(labels[:idx])\n",
      "/Library/Frameworks/Python.framework/Versions/3.7/lib/python3.7/site-packages/tensorflow/python/keras/datasets/imdb.py:160: VisibleDeprecationWarning: Creating an ndarray from ragged nested sequences (which is a list-or-tuple of lists-or-tuples-or ndarrays with different lengths or shapes) is deprecated. If you meant to do this, you must specify 'dtype=object' when creating the ndarray\n",
      "  x_test, y_test = np.array(xs[idx:]), np.array(labels[idx:])\n"
     ]
    }
   ],
   "source": [
    "(x_train, y_train), (x_test, y_test) = imdb.load_data(num_words=max_features)\n",
    "x_train = sequence.pad_sequences(x_train, maxlen=max_len)\n",
    "x_test = sequence.pad_sequences(x_test, maxlen=max_len)"
   ]
  },
  {
   "cell_type": "code",
   "execution_count": 5,
   "id": "exact-fighter",
   "metadata": {},
   "outputs": [],
   "source": [
    "model = keras.models.Sequential()"
   ]
  },
  {
   "cell_type": "code",
   "execution_count": 6,
   "id": "indoor-tampa",
   "metadata": {},
   "outputs": [],
   "source": [
    "model.add(layers.Embedding(max_features, 128, input_length=max_len, name='embed'))"
   ]
  },
  {
   "cell_type": "code",
   "execution_count": 7,
   "id": "romance-yesterday",
   "metadata": {},
   "outputs": [
    {
     "name": "stdout",
     "output_type": "stream",
     "text": [
      "Model: \"sequential\"\n",
      "_________________________________________________________________\n",
      "Layer (type)                 Output Shape              Param #   \n",
      "=================================================================\n",
      "embed (Embedding)            (None, 500, 128)          256000    \n",
      "_________________________________________________________________\n",
      "conv1d (Conv1D)              (None, 494, 32)           28704     \n",
      "_________________________________________________________________\n",
      "max_pooling1d (MaxPooling1D) (None, 98, 32)            0         \n",
      "_________________________________________________________________\n",
      "conv1d_1 (Conv1D)            (None, 92, 32)            7200      \n",
      "_________________________________________________________________\n",
      "global_max_pooling1d (Global (None, 32)                0         \n",
      "_________________________________________________________________\n",
      "dense (Dense)                (None, 1)                 33        \n",
      "=================================================================\n",
      "Total params: 291,937\n",
      "Trainable params: 291,937\n",
      "Non-trainable params: 0\n",
      "_________________________________________________________________\n"
     ]
    }
   ],
   "source": [
    "model.add(layers.Conv1D(32, 7, activation='relu'))\n",
    "model.add(layers.MaxPooling1D(5))\n",
    "model.add(layers.Conv1D(32, 7, activation='relu'))\n",
    "model.add(layers.GlobalMaxPooling1D())\n",
    "model.add(layers.Dense(1))\n",
    "model.summary()"
   ]
  },
  {
   "cell_type": "code",
   "execution_count": 15,
   "id": "annual-belief",
   "metadata": {},
   "outputs": [],
   "source": [
    "model.compile(optimizer='rmsprop', loss='binary_crossentropy', metrics=['acc'])"
   ]
  },
  {
   "cell_type": "code",
   "execution_count": 16,
   "id": "invalid-amber",
   "metadata": {},
   "outputs": [],
   "source": [
    "import os"
   ]
  },
  {
   "cell_type": "code",
   "execution_count": 17,
   "id": "useful-facing",
   "metadata": {},
   "outputs": [],
   "source": [
    "if not os.path.exists('my_log_dir'):\n",
    "    os.mkdir('my_log_dir')"
   ]
  },
  {
   "cell_type": "code",
   "execution_count": 18,
   "id": "important-growth",
   "metadata": {},
   "outputs": [],
   "source": [
    "callbacks = [\n",
    "    keras.callbacks.TensorBoard(\n",
    "        log_dir='my_log_dir',\n",
    "        histogram_freq=1,\n",
    "        embeddings_freq=1,\n",
    "    )\n",
    "]"
   ]
  },
  {
   "cell_type": "code",
   "execution_count": 19,
   "id": "solid-ending",
   "metadata": {},
   "outputs": [
    {
     "name": "stdout",
     "output_type": "stream",
     "text": [
      "Epoch 1/20\n",
      "157/157 [==============================] - 29s 177ms/step - loss: 0.6838 - acc: 0.5921 - val_loss: 0.4075 - val_acc: 0.8314\n",
      "Epoch 2/20\n",
      "157/157 [==============================] - 29s 186ms/step - loss: 0.4147 - acc: 0.8552 - val_loss: 0.4323 - val_acc: 0.8630\n",
      "Epoch 3/20\n",
      "157/157 [==============================] - 34s 218ms/step - loss: 0.3833 - acc: 0.8848 - val_loss: 0.4637 - val_acc: 0.8640\n",
      "Epoch 4/20\n",
      "157/157 [==============================] - 29s 183ms/step - loss: 0.3162 - acc: 0.9047 - val_loss: 0.5512 - val_acc: 0.8684\n",
      "Epoch 5/20\n",
      "157/157 [==============================] - 28s 181ms/step - loss: 0.2733 - acc: 0.9253 - val_loss: 0.5620 - val_acc: 0.8698\n",
      "Epoch 6/20\n",
      "157/157 [==============================] - 33s 210ms/step - loss: 0.2624 - acc: 0.9386 - val_loss: 1.8235 - val_acc: 0.7238\n",
      "Epoch 7/20\n",
      "157/157 [==============================] - 31s 197ms/step - loss: 0.2188 - acc: 0.9550 - val_loss: 0.7885 - val_acc: 0.8478\n",
      "Epoch 8/20\n",
      "157/157 [==============================] - 30s 192ms/step - loss: 0.1752 - acc: 0.9686 - val_loss: 0.7425 - val_acc: 0.8704\n",
      "Epoch 9/20\n",
      "157/157 [==============================] - 35s 220ms/step - loss: 0.1494 - acc: 0.9810 - val_loss: 1.2962 - val_acc: 0.8274\n",
      "Epoch 10/20\n",
      "157/157 [==============================] - 30s 193ms/step - loss: 0.1347 - acc: 0.9842 - val_loss: 0.8958 - val_acc: 0.8674\n",
      "Epoch 11/20\n",
      "157/157 [==============================] - 28s 175ms/step - loss: 0.1237 - acc: 0.9893 - val_loss: 0.9896 - val_acc: 0.8650\n",
      "Epoch 12/20\n",
      "157/157 [==============================] - 32s 205ms/step - loss: 0.1131 - acc: 0.9897 - val_loss: 1.0190 - val_acc: 0.8654\n",
      "Epoch 13/20\n",
      "157/157 [==============================] - 33s 209ms/step - loss: 0.1053 - acc: 0.9900 - val_loss: 1.0685 - val_acc: 0.8678\n",
      "Epoch 14/20\n",
      "157/157 [==============================] - 30s 193ms/step - loss: 0.0997 - acc: 0.9907 - val_loss: 1.1165 - val_acc: 0.8652\n",
      "Epoch 15/20\n",
      "157/157 [==============================] - 32s 206ms/step - loss: 0.1109 - acc: 0.9898 - val_loss: 1.1207 - val_acc: 0.8704\n",
      "Epoch 16/20\n",
      "157/157 [==============================] - 29s 184ms/step - loss: 0.1224 - acc: 0.9881 - val_loss: 1.1231 - val_acc: 0.8672\n",
      "Epoch 17/20\n",
      "157/157 [==============================] - 27s 173ms/step - loss: 0.0965 - acc: 0.9907 - val_loss: 1.1746 - val_acc: 0.8670\n",
      "Epoch 18/20\n",
      "157/157 [==============================] - 27s 171ms/step - loss: 0.1029 - acc: 0.9914 - val_loss: 1.4358 - val_acc: 0.8496\n",
      "Epoch 19/20\n",
      "157/157 [==============================] - 27s 174ms/step - loss: 0.1191 - acc: 0.9902 - val_loss: 1.2201 - val_acc: 0.8670\n",
      "Epoch 20/20\n",
      "157/157 [==============================] - 28s 175ms/step - loss: 0.0891 - acc: 0.9927 - val_loss: 1.2356 - val_acc: 0.8654\n"
     ]
    }
   ],
   "source": [
    "history = model.fit(x_train, y_train, epochs=20, batch_size=128, validation_split=0.2, callbacks=callbacks)"
   ]
  },
  {
   "cell_type": "code",
   "execution_count": null,
   "id": "virgin-desire",
   "metadata": {},
   "outputs": [],
   "source": []
  }
 ],
 "metadata": {
  "kernelspec": {
   "display_name": "Python 3",
   "language": "python",
   "name": "python3"
  },
  "language_info": {
   "codemirror_mode": {
    "name": "ipython",
    "version": 3
   },
   "file_extension": ".py",
   "mimetype": "text/x-python",
   "name": "python",
   "nbconvert_exporter": "python",
   "pygments_lexer": "ipython3",
   "version": "3.7.9"
  }
 },
 "nbformat": 4,
 "nbformat_minor": 5
}
